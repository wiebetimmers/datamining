{
 "cells": [
  {
   "cell_type": "code",
   "execution_count": 1,
   "id": "16bf7a07",
   "metadata": {},
   "outputs": [],
   "source": [
    "import pandas as pd\n",
    "import numpy as np\n",
    "import matplotlib.pyplot as plt\n",
    "import matplotlib.dates as md\n",
    "import seaborn as sns"
   ]
  },
  {
   "cell_type": "code",
   "execution_count": 2,
   "id": "4c9e1e76",
   "metadata": {},
   "outputs": [],
   "source": [
    "df = pd.read_csv(\"dataset_mood_smartphone.csv\")"
   ]
  },
  {
   "cell_type": "code",
   "execution_count": 3,
   "id": "71bb4d2e",
   "metadata": {},
   "outputs": [],
   "source": [
    "# Create columns for variables that have a value\n",
    "for var in df[\"variable\"].unique():\n",
    "    df['%s'%var] = np.where(df['variable'] == var, df['value'], np.NaN)\n",
    "\n",
    "# Split the date-time in seperate columns, transform to a datetime format\n",
    "df[['date', 'time']] = df['time'].str.split(' ', 1, expand=True)\n",
    "df['time'] = pd.to_datetime(df['date'] + ' ' + df['time'], format='%Y-%m-%d %H:%M:%S.%f')"
   ]
  },
  {
   "cell_type": "code",
   "execution_count": 4,
   "id": "b4754cc2",
   "metadata": {},
   "outputs": [],
   "source": [
    "ids = ['AS14.01', 'AS14.02', 'AS14.03', 'AS14.05', 'AS14.06', 'AS14.07',\n",
    "       'AS14.08', 'AS14.09', 'AS14.12', 'AS14.13', 'AS14.14', 'AS14.15',\n",
    "       'AS14.16', 'AS14.17', 'AS14.19', 'AS14.20', 'AS14.23', 'AS14.24',\n",
    "       'AS14.25', 'AS14.26', 'AS14.27', 'AS14.28', 'AS14.29', 'AS14.30',\n",
    "       'AS14.31', 'AS14.32', 'AS14.33']"
   ]
  },
  {
   "cell_type": "code",
   "execution_count": 5,
   "id": "82cffb81",
   "metadata": {},
   "outputs": [],
   "source": [
    "d = {}\n",
    "for person in ids:\n",
    "    d[person] = pd.DataFrame()"
   ]
  },
  {
   "cell_type": "code",
   "execution_count": 6,
   "id": "d47d7915",
   "metadata": {},
   "outputs": [
    {
     "name": "stdout",
     "output_type": "stream",
     "text": [
      "Empty DataFrame\n",
      "Columns: []\n",
      "Index: []\n"
     ]
    }
   ],
   "source": [
    "print(d['AS14.01'])"
   ]
  },
  {
   "cell_type": "code",
   "execution_count": 7,
   "id": "bdaf524c",
   "metadata": {},
   "outputs": [],
   "source": [
    "for i in d.keys():\n",
    "    df1 = df[df['id'] == i]\n",
    "\n",
    "    df_avg = d[i]\n",
    "\n",
    "    # Average over the day\n",
    "    take_mean = set((\"mood\", \"activity\", \"circumplex.arousal\", \"circumplex.valence\"))\n",
    "\n",
    "    # Total time everyday\n",
    "    take_sum = set((\"screen\", \"appCat.builtin\",\"appCat.communication\",\"appCat.entertainment\", \n",
    "                    \"appCat.finance\", \"appCat.game\", \"appCat.office\", \"appCat.other\", \"appCat.social\",  \n",
    "                    \"appCat.travel\", \"appCat.unknown\", \"appCat.utilities\", \"appCat.weather\"))\n",
    "\n",
    "    # Amount of calls or texts a day\n",
    "    take_count = set((\"call\", \"sms\"))\n",
    "\n",
    "    for var in df[\"variable\"].unique():\n",
    "        df2 = df1[df1[var].notna()]\n",
    "        if var in take_mean:\n",
    "            df_mean = df2.groupby('date').mean()\n",
    "            df_avg[var] = df_mean[var]\n",
    "        if var in take_sum:\n",
    "            df_sum = df2.groupby('date').mean()\n",
    "            df_avg[var] = df_sum[var]\n",
    "        if var in take_count:\n",
    "            df_count = df2.groupby('date').count()\n",
    "            df_avg[var] = df_count[var]\n",
    "            \n",
    "    d[i] = df_avg\n",
    "\n",
    "\n",
    "    "
   ]
  },
  {
   "cell_type": "code",
   "execution_count": 8,
   "id": "9b40aa04",
   "metadata": {},
   "outputs": [],
   "source": [
    "NAcheck = {}\n",
    "SumAttr = []\n",
    "for i in d.keys():\n",
    "    NAcheck[i] = d[i].isna().sum()\n",
    "    SumAttr.append(d[i].count())"
   ]
  },
  {
   "cell_type": "code",
   "execution_count": 9,
   "id": "c68dad5b",
   "metadata": {},
   "outputs": [],
   "source": [
    "NAcheckdf = pd.DataFrame(NAcheck)\n",
    "NAcheckdf = NAcheckdf.T\n",
    "attribute_count = []\n",
    "for i in range(len(SumAttr)):\n",
    "    attribute_count.append(SumAttr[i][0])"
   ]
  },
  {
   "cell_type": "code",
   "execution_count": 10,
   "id": "12c80d0b",
   "metadata": {},
   "outputs": [
    {
     "name": "stdout",
     "output_type": "stream",
     "text": [
      "[47, 41, 47, 53, 45, 48, 62, 46, 41, 53, 44, 55, 53, 56, 46, 47, 39, 55, 30, 68, 42, 38, 42, 47, 43, 37, 43]\n"
     ]
    }
   ],
   "source": [
    "print(attribute_count)"
   ]
  },
  {
   "cell_type": "code",
   "execution_count": 11,
   "id": "8aa0710c",
   "metadata": {},
   "outputs": [],
   "source": [
    "NAcheckdf.to_excel(\"NA_check.xlsx\")"
   ]
  },
  {
   "cell_type": "code",
   "execution_count": 28,
   "id": "6bd06c96",
   "metadata": {},
   "outputs": [],
   "source": [
    "fraction_NA = [0.001346801, 0.083469823,0.070725404,0.400609759,0.659095526,0.079138685,0.086329831,0.340232742,\n",
    "0.828291894,0.827170383,0.77400873,0.11892948,0.234064711,0.649214802,0.798824912,0.667981915,0.901415206]\n",
    "\n",
    "attributes = ['circumplex.valence', 'activity',\n",
    "       'screen', 'call', 'sms', 'appCat.builtin', 'appCat.communication',\n",
    "       'appCat.entertainment', 'appCat.finance', 'appCat.game',\n",
    "       'appCat.office', 'appCat.other', 'appCat.social', 'appCat.travel',\n",
    "       'appCat.unknown', 'appCat.utilities', 'appCat.weather']\n",
    "\n",
    "d = {}\n",
    "\n",
    "d = dict(zip(attributes, fraction_NA))"
   ]
  },
  {
   "cell_type": "code",
   "execution_count": 32,
   "id": "9401c934",
   "metadata": {},
   "outputs": [
    {
     "data": {
      "image/png": "[encoded data removed]",
      "text/plain": [
       "<Figure size 1440x216 with 1 Axes>"
      ]
     },
     "metadata": {
      "needs_background": "light"
     },
     "output_type": "display_data"
    }
   ],
   "source": [
    "centers = range(len(attributes))\n",
    "plt.rcParams[\"figure.figsize\"] = (20,3)\n",
    "plt.bar(centers, d.values(), align='center', tick_label=attributes)\n",
    "plt.xlim([0, len(attributes)])\n",
    "plt.xticks(rotation = 45)\n",
    "plt.ylabel(\"Proportion missing values\")\n",
    "plt.title(\"Fraction of missing values per attribute in the dataset\")\n",
    "plt.show()"
   ]
  }
 ],
 "metadata": {
  "kernelspec": {
   "display_name": "Python 3",
   "language": "python",
   "name": "python3"
  },
  "language_info": {
   "codemirror_mode": {
    "name": "ipython",
    "version": 3
   },
   "file_extension": ".py",
   "mimetype": "text/x-python",
   "name": "python",
   "nbconvert_exporter": "python",
   "pygments_lexer": "ipython3",
   "version": "3.8.8"
  }
 },
 "nbformat": 4,
 "nbformat_minor": 5
}
